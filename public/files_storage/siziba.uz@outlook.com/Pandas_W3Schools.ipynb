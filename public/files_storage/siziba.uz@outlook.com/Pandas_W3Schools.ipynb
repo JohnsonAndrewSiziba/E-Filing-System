{
 "cells": [
  {
   "cell_type": "code",
   "execution_count": 1,
   "metadata": {},
   "outputs": [
    {
     "name": "stdout",
     "output_type": "stream",
     "text": [
      "    cars  passings\n",
      "0    BMW         3\n",
      "1  Volvo         7\n",
      "2   Ford         2\n"
     ]
    }
   ],
   "source": [
    "import pandas\n",
    "\n",
    "mydataset = {\n",
    "  'cars': [\"BMW\", \"Volvo\", \"Ford\"],\n",
    "  'passings': [3, 7, 2]\n",
    "}\n",
    "\n",
    "myvar = pandas.DataFrame(mydataset)\n",
    "\n",
    "print(myvar) "
   ]
  },
  {
   "cell_type": "code",
   "execution_count": 3,
   "metadata": {},
   "outputs": [
    {
     "name": "stdout",
     "output_type": "stream",
     "text": [
      "    cars  passings\n",
      "0    BMW         3\n",
      "1  Volvo         7\n",
      "2   Ford         2\n"
     ]
    }
   ],
   "source": [
    "import pandas as pd\n",
    "\n",
    "mydataset = {\n",
    "  'cars': [\"BMW\", \"Volvo\", \"Ford\"],\n",
    "  'passings': [3, 7, 2]\n",
    "}\n",
    "\n",
    "myvar = pd.DataFrame(mydataset)\n",
    "\n",
    "print(myvar)"
   ]
  },
  {
   "cell_type": "markdown",
   "metadata": {},
   "source": [
    "# What is a Series?\n",
    "\n",
    "A Pandas Series is like a column in a table.\n",
    "\n",
    "It is a one-dimensional array holding data of any type."
   ]
  },
  {
   "cell_type": "code",
   "execution_count": 4,
   "metadata": {},
   "outputs": [
    {
     "name": "stdout",
     "output_type": "stream",
     "text": [
      "0    1\n",
      "1    7\n",
      "2    2\n",
      "dtype: int64\n"
     ]
    }
   ],
   "source": [
    "import pandas as pd\n",
    "\n",
    "a = [1, 7, 2]\n",
    "\n",
    "myvar = pd.Series(a)\n",
    "\n",
    "print(myvar)"
   ]
  },
  {
   "cell_type": "markdown",
   "metadata": {},
   "source": [
    "<h1>Labels</h1>\n",
    "\n",
    "If nothing else is specified, the values are labeled with their index number. First value has index 0, second value has index 1 etc.\n",
    "\n",
    "This label can be used to access a specified value."
   ]
  },
  {
   "cell_type": "code",
   "execution_count": 6,
   "metadata": {},
   "outputs": [
    {
     "name": "stdout",
     "output_type": "stream",
     "text": [
      "1\n"
     ]
    }
   ],
   "source": [
    "print(myvar[0]) "
   ]
  },
  {
   "cell_type": "markdown",
   "metadata": {},
   "source": [
    "# Create Labels\n",
    "\n",
    "With the index argument, you can name your own labels."
   ]
  },
  {
   "cell_type": "code",
   "execution_count": 7,
   "metadata": {},
   "outputs": [
    {
     "name": "stdout",
     "output_type": "stream",
     "text": [
      "x    1\n",
      "y    7\n",
      "z    2\n",
      "dtype: int64\n"
     ]
    }
   ],
   "source": [
    "import pandas as pd\n",
    "\n",
    "a = [1, 7, 2]\n",
    "\n",
    "myvar = pd.Series(a, index = [\"x\", \"y\", \"z\"])\n",
    "\n",
    "print(myvar)"
   ]
  },
  {
   "cell_type": "markdown",
   "metadata": {},
   "source": [
    "# When you have created labels, you can access an item by referring to the label."
   ]
  },
  {
   "cell_type": "code",
   "execution_count": 8,
   "metadata": {},
   "outputs": [
    {
     "name": "stdout",
     "output_type": "stream",
     "text": [
      "7\n"
     ]
    }
   ],
   "source": [
    "print(myvar[\"y\"]) "
   ]
  },
  {
   "cell_type": "markdown",
   "metadata": {},
   "source": [
    "# Key/Value Objects as Series\n",
    "\n",
    "You can also use a key/value object, like a dictionary, when creating a Series."
   ]
  },
  {
   "cell_type": "code",
   "execution_count": 11,
   "metadata": {},
   "outputs": [
    {
     "name": "stdout",
     "output_type": "stream",
     "text": [
      "day1    420\n",
      "day2    380\n",
      "day3    390\n",
      "dtype: int64\n"
     ]
    }
   ],
   "source": [
    "import pandas as pd\n",
    "\n",
    "calories = {\"day1\": 420, \"day2\": 380, \"day3\": 390}\n",
    "\n",
    "myvar = pd.Series(calories)\n",
    "\n",
    "print(myvar)"
   ]
  },
  {
   "cell_type": "markdown",
   "metadata": {},
   "source": [
    "Note: The keys of the dictionary become the labels."
   ]
  },
  {
   "cell_type": "markdown",
   "metadata": {},
   "source": [
    "## To select only some of the items in the dictionary, use the index argument and specify only the items you want to include in the Series."
   ]
  },
  {
   "cell_type": "code",
   "execution_count": 12,
   "metadata": {},
   "outputs": [
    {
     "name": "stdout",
     "output_type": "stream",
     "text": [
      "day1    420\n",
      "day2    380\n",
      "dtype: int64\n"
     ]
    }
   ],
   "source": [
    "import pandas as pd\n",
    "\n",
    "calories = {\"day1\": 420, \"day2\": 380, \"day3\": 390}\n",
    "\n",
    "myvar = pd.Series(calories, index = [\"day1\", \"day2\"])\n",
    "\n",
    "print(myvar)"
   ]
  },
  {
   "cell_type": "markdown",
   "metadata": {},
   "source": [
    "# DataFrames\n",
    "Data sets in Pandas are usually multi-dimensional tables, called DataFrames.\n",
    "\n",
    "Series is like a column, a DataFrame is the whole table.\n",
    "\n",
    "## Example\n",
    "Create a DataFrame from two Series:"
   ]
  },
  {
   "cell_type": "code",
   "execution_count": 15,
   "metadata": {},
   "outputs": [
    {
     "name": "stdout",
     "output_type": "stream",
     "text": [
      "   calories  duration\n",
      "0       420        50\n",
      "1       380        40\n",
      "2       390        45\n"
     ]
    }
   ],
   "source": [
    "import pandas as pd\n",
    "\n",
    "data = {\n",
    "  \"calories\": [420, 380, 390],\n",
    "  \"duration\": [50, 40, 45]\n",
    "}\n",
    "\n",
    "myvar = pd.DataFrame(data)\n",
    "\n",
    "print(myvar)"
   ]
  },
  {
   "cell_type": "markdown",
   "metadata": {},
   "source": [
    "A Pandas DataFrame is a 2 dimensional data structure, like a 2 dimensional array, or a table with rows and columns.\n",
    "\n",
    "As you can see from the result above, the DataFrame is like a table with rows and columns.\n",
    "\n",
    "Pandas use the loc attribute to return one or more specified row(s)"
   ]
  },
  {
   "cell_type": "code",
   "execution_count": 16,
   "metadata": {},
   "outputs": [
    {
     "name": "stdout",
     "output_type": "stream",
     "text": [
      "calories    420\n",
      "duration     50\n",
      "Name: 0, dtype: int64\n"
     ]
    }
   ],
   "source": [
    "#refer to the row index:\n",
    "print(myvar.loc[0])"
   ]
  },
  {
   "cell_type": "markdown",
   "metadata": {},
   "source": [
    "\n",
    "\n",
    "Note: This example returns a Pandas Series.\n"
   ]
  },
  {
   "cell_type": "markdown",
   "metadata": {},
   "source": [
    "Example\n",
    "\n",
    "Return row 0 and 1:"
   ]
  },
  {
   "cell_type": "code",
   "execution_count": 17,
   "metadata": {},
   "outputs": [
    {
     "name": "stdout",
     "output_type": "stream",
     "text": [
      "   calories  duration\n",
      "0       420        50\n",
      "1       380        40\n"
     ]
    }
   ],
   "source": [
    "#use a list of indexes:\n",
    "print(myvar.loc[[0, 1]])"
   ]
  },
  {
   "cell_type": "markdown",
   "metadata": {},
   "source": [
    "\n",
    "\n",
    "Note: When using [], the result is a Pandas DataFrame.\n"
   ]
  },
  {
   "cell_type": "markdown",
   "metadata": {},
   "source": [
    "## Named Indexes\n",
    "With the index argument, you can name your own indexes."
   ]
  },
  {
   "cell_type": "code",
   "execution_count": 18,
   "metadata": {},
   "outputs": [
    {
     "name": "stdout",
     "output_type": "stream",
     "text": [
      "      calories  duration\n",
      "day1       420        50\n",
      "day2       380        40\n",
      "day3       390        45\n"
     ]
    }
   ],
   "source": [
    "import pandas as pd\n",
    "\n",
    "data = {\n",
    "  \"calories\": [420, 380, 390],\n",
    "  \"duration\": [50, 40, 45]\n",
    "}\n",
    "\n",
    "df = pd.DataFrame(data, index = [\"day1\", \"day2\", \"day3\"])\n",
    "\n",
    "print(df) "
   ]
  },
  {
   "cell_type": "markdown",
   "metadata": {},
   "source": [
    "## Locate Named Indexes\n",
    "\n",
    "Use the named index in the loc attribute to return the specified row(s).\n",
    "Example\n",
    "\n",
    "Return \"day2\":"
   ]
  },
  {
   "cell_type": "code",
   "execution_count": 19,
   "metadata": {},
   "outputs": [
    {
     "name": "stdout",
     "output_type": "stream",
     "text": [
      "calories    380\n",
      "duration     40\n",
      "Name: day2, dtype: int64\n"
     ]
    }
   ],
   "source": [
    "#refer to the named index:\n",
    "print(df.loc[\"day2\"])"
   ]
  },
  {
   "cell_type": "markdown",
   "metadata": {},
   "source": [
    "# Load Files Into a DataFrame\n",
    "\n",
    "If your data sets are stored in a file, Pandas can load them into a DataFrame."
   ]
  },
  {
   "cell_type": "markdown",
   "metadata": {},
   "source": [
    "Example\n",
    "\n",
    "Load a comma separated file (CSV file) into a DataFrame:"
   ]
  },
  {
   "cell_type": "code",
   "execution_count": 22,
   "metadata": {},
   "outputs": [
    {
     "name": "stdout",
     "output_type": "stream",
     "text": [
      "      Symbol          Volume             Value Previous Close        High  \\\n",
      "0    ARIS.ZW      8,500.0000       27,585.2500         3.4524      3.2500   \n",
      "1    ARTD.ZW        100.0000        1,030.0000        10.2451     10.3000   \n",
      "2    ASUN.ZW      2,400.0000       16,800.0000         6.9100      7.0000   \n",
      "3    AXIA.ZW     68,600.0000    2,823,950.0000        41.0000     45.0000   \n",
      "4     CBZ.ZW    182,700.0000   12,248,505.0000        66.8582     70.0000   \n",
      "5     CFI.ZW        800.0000       81,600.0000       102.0000    102.0000   \n",
      "6    CSZL.ZW    100,700.0000    5,077,455.0000        51.0400     50.5000   \n",
      "7    DLTA.ZW    136,600.0000   22,699,180.0000       178.2684    169.9500   \n",
      "8     ECO.ZW    946,700.0000   77,630,340.0000        82.0807     90.0000   \n",
      "9    EDGR.ZW      7,900.0000       39,115.0000         5.0000      5.0000   \n",
      "10    FCA.ZW    184,200.0000      644,758.5000         3.4976      3.6500   \n",
      "11    FMP.ZW        100.0000          740.0000         7.4500      7.4000   \n",
      "12    GBH.ZW     28,800.0000       46,197.7500         1.6775      1.7500   \n",
      "13    INN.ZW     52,700.0000    9,760,725.0000       185.0278    186.0000   \n",
      "14   LACZ.ZW     11,000.0000      902,255.0000        82.0000     82.0500   \n",
      "15   MASH.ZW      3,600.0000        9,360.0000         2.5183      2.6000   \n",
      "16   MEIK.ZW      2,000.0000      250,000.0000       121.9500    125.0000   \n",
      "17  MMDZB.ZW        200.0000        6,400.0000        30.0000     32.0000   \n",
      "18    NMB.ZW     44,800.0000      567,530.0000        12.6177     14.0000   \n",
      "19   NTFD.ZW      2,500.0000    3,465,000.0000     1,386.0000  1,386.0000   \n",
      "20    NTS.ZW      3,500.0000       17,850.0000         5.0400      5.1000   \n",
      "21    OKZ.ZW    119,400.0000    3,040,695.0000        24.9964     26.0000   \n",
      "22   PROL.ZW        100.0000        2,750.0000        29.0000     27.5000   \n",
      "23    RTG.ZW        200.0000        1,500.0000         7.5000      7.5000   \n",
      "24   SACL.ZW     94,600.0000      151,687.5000         1.6550      1.7000   \n",
      "25   SEED.ZW     23,500.0000    2,655,500.0000       115.0000    113.0000   \n",
      "26    SIM.ZW    119,300.0000   14,913,850.0000       121.1269    125.0500   \n",
      "27    TSL.ZW        100.0000        8,000.0000        72.1000     80.0000   \n",
      "28   TURN.ZW     10,300.0000       43,775.0000         4.0500      4.2500   \n",
      "29   WILD.ZW      2,200.0000        7,480.0000         3.4269      3.4000   \n",
      "30   ZIMP.ZW     15,100.0000       43,879.5000         2.9025      2.9500   \n",
      "31   ZIMR.ZW  1,144,700.0000    4,006,920.0000         3.6718      3.6825   \n",
      "32   ZIMW.ZW      3,400.0000       75,400.0000        23.0000     24.0000   \n",
      "33  Total=33  3,321,300.0000  161,267,813.5000            NaN         NaN   \n",
      "\n",
      "           Low        Open       Close     Average  Trades Stats Date  \n",
      "0       3.2000      3.4524      3.2453      3.2453       7   21-01-22  \n",
      "1      10.3000     10.2451     10.3000     10.3000       1   21-01-22  \n",
      "2       7.0000      6.9100      7.0000      7.0000       8   21-01-22  \n",
      "3      41.0000     41.0000     41.1654     41.1654       8   21-01-22  \n",
      "4      66.9000     66.8582     67.0416     67.0416       9   21-01-22  \n",
      "5     102.0000    102.0000    102.0000    102.0000       1   21-01-22  \n",
      "6      50.0000     51.0400     50.4215     50.4215      13   21-01-22  \n",
      "7     164.0000    178.2684    166.1726    166.1726      24   21-01-22  \n",
      "8      81.9000     82.0807     82.0009     82.0009      28   21-01-22  \n",
      "9       4.9500      5.0000      4.9512      4.9512       7   21-01-22  \n",
      "10      3.4025      3.4976      3.5003      3.5003      11   21-01-22  \n",
      "11      7.4000      7.4500      7.4000      7.4000       1   21-01-22  \n",
      "12      1.5000      1.6775      1.6040      1.6040      10   21-01-22  \n",
      "13    185.0000    185.0278    185.2129    185.2129      17   21-01-22  \n",
      "14     82.0000     82.0000     82.0231     82.0231       3   21-01-22  \n",
      "15      2.6000      2.5183      2.6000      2.6000       3   21-01-22  \n",
      "16    125.0000    121.9500    125.0000    125.0000       6   21-01-22  \n",
      "17     32.0000     30.0000     32.0000     32.0000       1   21-01-22  \n",
      "18     12.6500     12.6177     12.6680     12.6680       3   21-01-22  \n",
      "19  1,386.0000  1,386.0000  1,386.0000  1,386.0000       1   21-01-22  \n",
      "20      5.1000      5.0400      5.1000      5.1000       2   21-01-22  \n",
      "21     25.0000     24.9964     25.4664     25.4664      20   21-01-22  \n",
      "22     27.5000     29.0000     27.5000     27.5000       1   21-01-22  \n",
      "23      7.5000      7.5000      7.5000      7.5000       1   21-01-22  \n",
      "24      1.6000      1.7000      1.6034      1.6034      33   21-01-22  \n",
      "25    113.0000    115.0000    113.0000    113.0000       6   21-01-22  \n",
      "26    123.0000    121.1269    125.0113    125.0113      16   21-01-22  \n",
      "27     80.0000     72.1000     80.0000     80.0000       1   21-01-22  \n",
      "28      4.2500      4.0500      4.2500      4.2500       1   21-01-22  \n",
      "29      3.4000      3.4269      3.4000      3.4000       6   21-01-22  \n",
      "30      2.9025      2.9025      2.9059      2.9059       6   21-01-22  \n",
      "31      3.5000      3.6718      3.5004      3.5004       4   21-01-22  \n",
      "32     22.0000     23.0000     22.1764     22.1764       4   21-01-22  \n",
      "33         NaN         NaN         NaN         NaN     263   21-01-22  \n"
     ]
    }
   ],
   "source": [
    "import pandas as pd\n",
    "\n",
    "df = pd.read_csv('zse-21JAN2022.csv')\n",
    "\n",
    "print(df) "
   ]
  },
  {
   "cell_type": "code",
   "execution_count": 23,
   "metadata": {},
   "outputs": [
    {
     "data": {
      "image/png": "[encoded data removed]",
      "text/plain": [
       "<Figure size 432x288 with 1 Axes>"
      ]
     },
     "metadata": {
      "needs_background": "light"
     },
     "output_type": "display_data"
    }
   ],
   "source": [
    "df.plot()\n",
    "import matplotlib.pyplot as plt\n",
    "\n",
    "plt.show() "
   ]
  }
 ],
 "metadata": {
  "interpreter": {
   "hash": "8e4a7e7b9572a51eb49db64e6968c791e82ddbd2d333d1abda5b3253e05d54b2"
  },
  "kernelspec": {
   "display_name": "Python 3.8.9 64-bit",
   "language": "python",
   "name": "python3"
  },
  "language_info": {
   "codemirror_mode": {
    "name": "ipython",
    "version": 3
   },
   "file_extension": ".py",
   "mimetype": "text/x-python",
   "name": "python",
   "nbconvert_exporter": "python",
   "pygments_lexer": "ipython3",
   "version": "3.8.9"
  },
  "orig_nbformat": 4
 },
 "nbformat": 4,
 "nbformat_minor": 2
}
